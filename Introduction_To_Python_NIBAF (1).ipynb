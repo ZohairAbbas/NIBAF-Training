{
  "nbformat": 4,
  "nbformat_minor": 0,
  "metadata": {
    "colab": {
      "provenance": []
    },
    "kernelspec": {
      "name": "python3",
      "display_name": "Python 3"
    },
    "language_info": {
      "name": "python"
    }
  },
  "cells": [
    {
      "cell_type": "markdown",
      "source": [
        "Welcome to google colab. This is free code editor provided by google to help you run python without downloading and installing it.\n"
      ],
      "metadata": {
        "id": "hHOcfPPsNs2f"
      }
    },
    {
      "cell_type": "markdown",
      "source": [
        "Welcome NIBAF. Today we will learn a lot of python in short time while doing fun activities so stay curious and have fun.\n",
        "\n",
        "Let's write our first script in python and run it"
      ],
      "metadata": {
        "id": "PWENLDO5BpvQ"
      }
    },
    {
      "cell_type": "code",
      "source": [],
      "metadata": {
        "id": "Xv7siMbascUj"
      },
      "execution_count": null,
      "outputs": []
    },
    {
      "cell_type": "code",
      "source": [
        "print('Hello World') # print is a function in python\n",
        "\n",
        "print('Hello python') # this is a comment"
      ],
      "metadata": {
        "colab": {
          "base_uri": "https://localhost:8080/"
        },
        "id": "zWgui5AkBt7B",
        "outputId": "b96aae84-d99e-4c41-e975-2a21113088cf"
      },
      "execution_count": null,
      "outputs": [
        {
          "output_type": "stream",
          "name": "stdout",
          "text": [
            "Hello World\n",
            "Hello python\n"
          ]
        }
      ]
    },
    {
      "cell_type": "markdown",
      "source": [
        "Print is a function in python. A function takes an input and generates and output. In this case print generates an output 'Hello World'. The text in green is a comment. Comments are made to keep the code clean and readable."
      ],
      "metadata": {
        "id": "FTHZKOi0CJRI"
      }
    },
    {
      "cell_type": "code",
      "source": [
        "# example comment\n",
        "\n",
        "#example of running more script\n",
        "print(2/2)\n",
        "print('Ny name is lakhan')"
      ],
      "metadata": {
        "colab": {
          "base_uri": "https://localhost:8080/"
        },
        "id": "yxDELDNhcMFp",
        "outputId": "60208409-4eae-4a61-db46-e29b754427e3"
      },
      "execution_count": null,
      "outputs": [
        {
          "output_type": "stream",
          "name": "stdout",
          "text": [
            "1.0\n",
            "Ny name is lakhan\n"
          ]
        }
      ]
    },
    {
      "cell_type": "markdown",
      "source": [
        "String text"
      ],
      "metadata": {
        "id": "d_bAiyhaDI2Q"
      }
    },
    {
      "cell_type": "code",
      "source": [
        "'Hello world'\n",
        "\"Hello World\"\n",
        "\"\"\"Hello World\"\"\""
      ],
      "metadata": {
        "id": "c-spgrNs6xMa"
      },
      "execution_count": null,
      "outputs": []
    },
    {
      "cell_type": "code",
      "source": [
        "# what's the need of using single , double , triple quotes?\n",
        "'I am razi moosa'\n",
        "\"I'm razi moosa\"\n",
        "\"\"\"Hello my name is razi\n",
        "my age is 24\n",
        "my session at NIBAf has a lovely audience\"\"\"\n",
        "\n",
        "print(\"\"\"Hello my name is razi\n",
        "my age is 24\n",
        "my session at NIBAf has a lovely audience\"\"\")"
      ],
      "metadata": {
        "colab": {
          "base_uri": "https://localhost:8080/"
        },
        "id": "2UtZ0p2rQDFO",
        "outputId": "846c8fa4-7fd8-455d-95d0-77fe86e8259d"
      },
      "execution_count": null,
      "outputs": [
        {
          "output_type": "stream",
          "name": "stdout",
          "text": [
            "Hello my name is razi\n",
            "my age is 24\n",
            "my session at NIBAf has a lovely audience\n"
          ]
        }
      ]
    },
    {
      "cell_type": "code",
      "source": [
        "#example code\n",
        "#single line text\n",
        "'Hello World'   #single quotes\n",
        "\"Hello World, my age is 24\"   #double quotes\n",
        "\n",
        "\n",
        "#multi-line text\n",
        "\"\"\" Hello world\n",
        "My name is razi and today I'm feeling very lucky!\"\"\" # triple double quotes"
      ],
      "metadata": {
        "colab": {
          "base_uri": "https://localhost:8080/"
        },
        "id": "UjJkBEyhdIRb",
        "outputId": "33a881ca-ecd4-4d2c-abb5-5f8e6d5b9ef7"
      },
      "execution_count": null,
      "outputs": [
        {
          "output_type": "stream",
          "name": "stdout",
          "text": [
            "Hello I'm razi\n"
          ]
        }
      ]
    },
    {
      "cell_type": "markdown",
      "source": [
        "Write a script which prints\n",
        "- Hello, NIBAF\n",
        "- Today I'm feeling lucky\n",
        "- Prints the above two strings in one line\n",
        "- Children Poem\n",
        "  - Humpty Dumpty sat on a wall,\n",
        "  - Humpty Dumpty had a great fall.\n",
        "  - All the king's horses and all the king's men\n",
        "  - Couldn't put Humpty together again."
      ],
      "metadata": {
        "id": "dGKfkh0JDv0q"
      }
    },
    {
      "cell_type": "code",
      "execution_count": null,
      "metadata": {
        "colab": {
          "base_uri": "https://localhost:8080/"
        },
        "id": "IhHdkRL8NjQ1",
        "outputId": "5c9e2528-b005-4bff-ef1d-5e994853bf69"
      },
      "outputs": [
        {
          "output_type": "stream",
          "name": "stdout",
          "text": [
            "Hello, NIBAF\n",
            "Today I'm feeling lucky\n",
            "Hello, NIBAF Today I'm feeling lucky\n"
          ]
        }
      ],
      "source": [
        "print('Hello, NIBAF') #single quotations\n",
        "\n",
        "print(\"Today I'm feeling lucky\") #double quotations\n",
        "\n",
        "print('Hello, NIBAF' , \"Today I'm feeling lucky\") #we can print multiple strings in one line using ,\n",
        "\"\"\" Humpty Dumpty sat on a wall,\n",
        "Humpty Dumpty had a great fall.\n",
        "All the king's horses and all the king's men\n",
        "Couldn't put Humpty together again.\"\"\""
      ]
    },
    {
      "cell_type": "markdown",
      "source": [
        "Variables\n",
        "- Variable stores information in a program."
      ],
      "metadata": {
        "id": "ObbIS9H8SZcL"
      }
    },
    {
      "cell_type": "code",
      "source": [
        "a = 10000 # a is my variable and the value it store is 1\n",
        "b = 100\n",
        "print(a/b)"
      ],
      "metadata": {
        "colab": {
          "base_uri": "https://localhost:8080/"
        },
        "id": "8Axp9c9x8JdM",
        "outputId": "a4bdbe33-edac-44d7-ac03-fa1a855883cd"
      },
      "execution_count": null,
      "outputs": [
        {
          "output_type": "stream",
          "name": "stdout",
          "text": [
            "100.0\n"
          ]
        }
      ]
    },
    {
      "cell_type": "code",
      "source": [
        "# this is how we store values in variables\n",
        "a = 1\n",
        "b = 2\n",
        "c = 3.142 #pi\n",
        "\n",
        "print(a+b+c)"
      ],
      "metadata": {
        "colab": {
          "base_uri": "https://localhost:8080/"
        },
        "id": "oiNjGX_0SsVs",
        "outputId": "d9cb7960-fbce-4bce-fb65-09dd052ac97a"
      },
      "execution_count": null,
      "outputs": [
        {
          "output_type": "stream",
          "name": "stdout",
          "text": [
            "6.1419999999999995\n"
          ]
        }
      ]
    },
    {
      "cell_type": "code",
      "source": [
        "a = 3\n",
        "b = 'hello'\n",
        "c = 4.5\n",
        "d = b\n",
        "\n",
        "print(b, d)"
      ],
      "metadata": {
        "colab": {
          "base_uri": "https://localhost:8080/"
        },
        "id": "0P0pmReJ8Yel",
        "outputId": "85a6d20d-f88e-48c0-a0c6-7b2fd2abb327"
      },
      "execution_count": null,
      "outputs": [
        {
          "output_type": "stream",
          "name": "stdout",
          "text": [
            "hello b\n"
          ]
        }
      ]
    },
    {
      "cell_type": "code",
      "source": [
        "a = 10\n",
        "b = 'Razi' # if not written in quotes then python will look for a variable\n",
        "b = razi  #it looking for a variable razi\n",
        "b = 'razi' # i need to use quote to make it string"
      ],
      "metadata": {
        "id": "t1JsiLbjS44z"
      },
      "execution_count": null,
      "outputs": []
    },
    {
      "cell_type": "markdown",
      "source": [
        "Types of variables\n",
        "- Integers : Integers are positive, negative whole numbers\n",
        "- Float : Any decimal number\n",
        "- String : Any text value\n",
        "- Boolean : True , False (relates to conditions if a variable is true or not - to identify)\n",
        "- None : null (To express that variable has nothing in it)"
      ],
      "metadata": {
        "id": "APKoizHkTSD2"
      }
    },
    {
      "cell_type": "code",
      "source": [
        "#example\n",
        "a = 2\n",
        "b = 10.5\n",
        "c = 'Hello NIBAF, date is 9/17/2024 and age is 24'\n",
        "d = True\n",
        "e = None\n",
        "\n",
        "\n",
        "# python automatically detects the type of variable we just need to declare it\n",
        "\n",
        "# we can print these variables and check their type using type() function\n",
        "\n",
        "print(type(a))"
      ],
      "metadata": {
        "colab": {
          "base_uri": "https://localhost:8080/"
        },
        "id": "sAqUlmctTZFt",
        "outputId": "eab0d29b-27c2-47b9-e510-1b1fc263752e"
      },
      "execution_count": null,
      "outputs": [
        {
          "output_type": "stream",
          "name": "stdout",
          "text": [
            "<class 'int'>\n"
          ]
        }
      ]
    },
    {
      "cell_type": "code",
      "source": [
        "# we can print in one line too instead of calling the print function in every line by using comma ,\n",
        "\n",
        "print(b , type(b) , c , type(c) , d, type(d), e , type(e) )"
      ],
      "metadata": {
        "colab": {
          "base_uri": "https://localhost:8080/"
        },
        "id": "D4p3A0vVUgL0",
        "outputId": "9bc2671c-8698-4373-f644-8022cda62346"
      },
      "execution_count": null,
      "outputs": [
        {
          "output_type": "stream",
          "name": "stdout",
          "text": [
            "10.5 <class 'float'> Hello NIBAF, date is 9/17/2024 and age is 24 <class 'str'> True <class 'bool'> None <class 'NoneType'>\n"
          ]
        }
      ]
    },
    {
      "cell_type": "code",
      "source": [
        "# In Python, you can store values in variables.\n",
        "# Here's how you create and print a variable.\n",
        "variable=\"Today I'm feeling lucky!\"\n",
        "print(variable) #let's print it to see if it works"
      ],
      "metadata": {
        "colab": {
          "base_uri": "https://localhost:8080/"
        },
        "id": "15tadLFLbBew",
        "outputId": "89c86f8e-5db4-48ed-e7fa-df1027f61f40"
      },
      "execution_count": null,
      "outputs": [
        {
          "output_type": "stream",
          "name": "stdout",
          "text": [
            "Today I'm feeling lucky!\n"
          ]
        }
      ]
    },
    {
      "cell_type": "markdown",
      "source": [
        "Variables works like an identifier\n",
        "- Example: Your name is an identifier and there are rules for keeping a name. We cant use special characters or numbers in our names\n",
        "- Similarly there are rules in variables\n",
        "\n",
        "Rules for choosing a variable\n",
        "- Variable can only start with alphabets or underscore\n",
        "- Cannot start with a number\n",
        "- No space can be used in variable name\n",
        "- Only contains alphabets or underscore or numbers"
      ],
      "metadata": {
        "id": "Wf9dCgFfUSFL"
      }
    },
    {
      "cell_type": "code",
      "source": [
        "#how to not declare variable?\n",
        "#my-brain=3\n",
        "#%p=3\n",
        "#1A= 'razi'\n",
        "#A B= 'hello'\n",
        "#&variable = 2 {add @}\n",
        "\n",
        "#how to declare variables?\n",
        "a=3\n",
        "ab_var=22\n",
        "_var=4\n",
        "A2=0\n",
        "\n",
        "print(a)\n",
        "print(ab_var)\n",
        "print(_var)\n",
        "print(A2)\n",
        "\n",
        "# Multiple assignment: Assign multiple values to multiple variables in one line\n",
        "a, ab_var, _var, A2 = 3, 22, 4, 0\n",
        "print(a, ab_var, _var, A2)"
      ],
      "metadata": {
        "colab": {
          "base_uri": "https://localhost:8080/"
        },
        "collapsed": true,
        "id": "FQcmh-bkgTay",
        "outputId": "1e78d64e-bf99-4259-aecf-aa972f08a7b5"
      },
      "execution_count": null,
      "outputs": [
        {
          "output_type": "stream",
          "name": "stdout",
          "text": [
            "3\n",
            "22\n",
            "4\n",
            "0\n",
            "3 22 4 0\n"
          ]
        }
      ]
    },
    {
      "cell_type": "markdown",
      "source": [
        "Operators in Python\n",
        "- Arithmetic Operators: + (plus), - (minus), * (multiply), / (divide)\n",
        "- Assignment Operators: = , += , -=\n",
        "- Comparison Operators: ==, >= , <= , !=\n",
        "- Logical Operators: and, or not"
      ],
      "metadata": {
        "id": "h6bzB_VFXSao"
      }
    },
    {
      "cell_type": "code",
      "source": [
        "# Arithmetic operators\n",
        "\n",
        "print(2+2 , 5-4 , 100/2 , 100*2)\n",
        "\n",
        "# Assignment operators\n",
        "\n",
        "a = 1 # assign the value 1 to a\n",
        "a += 1 # increase the value of a by 1\n",
        "a -= 10 # decrease the value of a by 10\n",
        "\n",
        "# comparison operators\n",
        "\n",
        "# Is it raining in karachi? Compare the value of weather in question vs current weather value\n",
        "weather ='sunny'\n",
        "print( weather == 'rainy')\n",
        "\n",
        "# logical operators\n",
        "\n",
        "# Is it raining in daytime?\n",
        "weather='rainy'\n",
        "time='day'\n",
        "\n",
        "print(weather=='rainy' and time=='day')"
      ],
      "metadata": {
        "colab": {
          "base_uri": "https://localhost:8080/"
        },
        "id": "M-FskvY_XyzB",
        "outputId": "84e22551-7760-49d5-b54c-2279a6514333"
      },
      "execution_count": null,
      "outputs": [
        {
          "output_type": "stream",
          "name": "stdout",
          "text": [
            "4 1 50.0 200\n",
            "False\n",
            "False\n"
          ]
        }
      ]
    },
    {
      "cell_type": "markdown",
      "source": [
        "More on type() function we saw earlier"
      ],
      "metadata": {
        "id": "YQy3NrrWcnK5"
      }
    },
    {
      "cell_type": "code",
      "source": [
        "# how to check the type of variable?\n",
        "a = 2\n",
        "print(type(a))\n",
        "\n",
        "# how to convert the value of existing variable into another data type?\n",
        "b = '23'\n",
        "\n",
        "print(b+2)\n",
        "#integer\n",
        "print(int(b))\n",
        "#float\n",
        "print(float(b))\n",
        "\n",
        "\n",
        "# condition is that type conversion should be legal\n",
        "# b='2A'\n",
        "# print(int(b)) # this would throw error"
      ],
      "metadata": {
        "colab": {
          "base_uri": "https://localhost:8080/",
          "height": 228
        },
        "id": "MjNj3lovclGU",
        "outputId": "b084265f-a66c-4f1c-a5b0-25ef570cf0ee",
        "collapsed": true
      },
      "execution_count": null,
      "outputs": [
        {
          "output_type": "stream",
          "name": "stdout",
          "text": [
            "<class 'int'>\n"
          ]
        },
        {
          "output_type": "error",
          "ename": "TypeError",
          "evalue": "can only concatenate str (not \"int\") to str",
          "traceback": [
            "\u001b[0;31m---------------------------------------------------------------------------\u001b[0m",
            "\u001b[0;31mTypeError\u001b[0m                                 Traceback (most recent call last)",
            "\u001b[0;32m<ipython-input-86-fb92d3f802dc>\u001b[0m in \u001b[0;36m<cell line: 8>\u001b[0;34m()\u001b[0m\n\u001b[1;32m      6\u001b[0m \u001b[0mb\u001b[0m \u001b[0;34m=\u001b[0m \u001b[0;34m'23'\u001b[0m\u001b[0;34m\u001b[0m\u001b[0;34m\u001b[0m\u001b[0m\n\u001b[1;32m      7\u001b[0m \u001b[0;34m\u001b[0m\u001b[0m\n\u001b[0;32m----> 8\u001b[0;31m \u001b[0mprint\u001b[0m\u001b[0;34m(\u001b[0m\u001b[0mb\u001b[0m\u001b[0;34m+\u001b[0m\u001b[0;36m2\u001b[0m\u001b[0;34m)\u001b[0m\u001b[0;34m\u001b[0m\u001b[0;34m\u001b[0m\u001b[0m\n\u001b[0m\u001b[1;32m      9\u001b[0m \u001b[0;31m#integer\u001b[0m\u001b[0;34m\u001b[0m\u001b[0;34m\u001b[0m\u001b[0m\n\u001b[1;32m     10\u001b[0m \u001b[0mprint\u001b[0m\u001b[0;34m(\u001b[0m\u001b[0mint\u001b[0m\u001b[0;34m(\u001b[0m\u001b[0mb\u001b[0m\u001b[0;34m)\u001b[0m\u001b[0;34m)\u001b[0m\u001b[0;34m\u001b[0m\u001b[0;34m\u001b[0m\u001b[0m\n",
            "\u001b[0;31mTypeError\u001b[0m: can only concatenate str (not \"int\") to str"
          ]
        }
      ]
    },
    {
      "cell_type": "markdown",
      "source": [
        "Input function\n",
        "- Input function prompts users for an input and saves that input in string\n",
        "- The output of input function is always string"
      ],
      "metadata": {
        "id": "Yy-GwFRkdU50"
      }
    },
    {
      "cell_type": "code",
      "source": [
        "# run a simple input function\n",
        "input()"
      ],
      "metadata": {
        "colab": {
          "base_uri": "https://localhost:8080/",
          "height": 52
        },
        "id": "omXa7YS9dj_D",
        "outputId": "a1dd3b12-ed41-469e-9d30-6e7bcdbcab7f"
      },
      "execution_count": null,
      "outputs": [
        {
          "name": "stdout",
          "output_type": "stream",
          "text": [
            "Enter your first nameMuhammad Razi\n"
          ]
        },
        {
          "output_type": "execute_result",
          "data": {
            "text/plain": [
              "'Muhammad Razi'"
            ],
            "application/vnd.google.colaboratory.intrinsic+json": {
              "type": "string"
            }
          },
          "metadata": {},
          "execution_count": 89
        }
      ]
    },
    {
      "cell_type": "code",
      "source": [
        "# # what if you want to display a message for user?\n",
        "# a = input(\"Enter your first name\")\n",
        "# b = input(\"Enter your last name\")\n",
        "# print(\"Your full name is \", a+b)\n",
        "\n",
        "# add two numbers from user input\n",
        "c = input(\"Enter first number\")\n",
        "d = input(\"Enter second number\")\n",
        "print(\"Your result is \", c+d)"
      ],
      "metadata": {
        "colab": {
          "base_uri": "https://localhost:8080/"
        },
        "id": "OWIEInf4doUH",
        "outputId": "91717ec8-549a-4e67-94e1-bbc8bcdadf15",
        "collapsed": true
      },
      "execution_count": null,
      "outputs": [
        {
          "output_type": "stream",
          "name": "stdout",
          "text": [
            "Enter first number90\n",
            "Enter second number90\n",
            "Your result is  9090\n",
            "Your result is 180\n"
          ]
        }
      ]
    },
    {
      "cell_type": "markdown",
      "source": [
        "1. Write a python script to add two numbers.\n",
        "2. Write a python script to find remainder when a number is divided by b. Take a = 50 and b = 5.\n",
        "3. Check the type of variable assigned using input () function.\n",
        "4. Use comparison operator to find out whether ‘a’ given variable a is greater than\n",
        "‘b’ or not. Take a = 10 and b = 100\n",
        "5. Write a python script to find an average of two numbers entered by the user.\n",
        "6. Write a python script to calculate the square of a number entered by the user."
      ],
      "metadata": {
        "id": "DWEcnHnHhj6P"
      }
    },
    {
      "cell_type": "code",
      "source": [
        "# Code here\n",
        "# Answer 1"
      ],
      "metadata": {
        "id": "xLpGhQnnd726"
      },
      "execution_count": null,
      "outputs": []
    },
    {
      "cell_type": "code",
      "source": [
        "# Code here\n",
        "# Hint : google the remainder operator\n",
        "# Answer 2"
      ],
      "metadata": {
        "id": "iCjwsQZYiMul"
      },
      "execution_count": null,
      "outputs": []
    },
    {
      "cell_type": "code",
      "source": [
        "# Code here\n",
        "# Answer 3"
      ],
      "metadata": {
        "id": "v6Hy_t9diOmb"
      },
      "execution_count": null,
      "outputs": []
    },
    {
      "cell_type": "code",
      "source": [
        "# Code here\n",
        "# Answer 4"
      ],
      "metadata": {
        "id": "tZAeFOrziQHj"
      },
      "execution_count": null,
      "outputs": []
    },
    {
      "cell_type": "code",
      "source": [
        "# Code here\n",
        "# Answer 5"
      ],
      "metadata": {
        "id": "lHWY4pEGiRfc"
      },
      "execution_count": null,
      "outputs": []
    },
    {
      "cell_type": "code",
      "source": [
        "# Code here\n",
        "# Hint : google the operator for square in python\n",
        "# Answer 6"
      ],
      "metadata": {
        "id": "mNUH8cOYiSZD"
      },
      "execution_count": null,
      "outputs": []
    },
    {
      "cell_type": "markdown",
      "source": [
        "More on strings\n",
        "- Strings are collection of one or more characters\n",
        "- You can find length of a collection\n",
        "- You can access an individual element in this collection of characters (index starts at 0)\n",
        "- String can be sliced. Pick specific part.\n",
        "- Immutable (cannot modify existing string)\n"
      ],
      "metadata": {
        "id": "voRSHvBVi-kG"
      }
    },
    {
      "cell_type": "code",
      "source": [
        "str_='Hello'\n",
        "\n",
        "print('first character is', str_[0]) # first element always starts with zero\n",
        "print('length of the string is', len(str_)) # we use the function len to find the length of string"
      ],
      "metadata": {
        "colab": {
          "base_uri": "https://localhost:8080/"
        },
        "id": "jXMYADOtsix9",
        "outputId": "dfd746c1-e0ac-4b85-f3af-d9c853334f53"
      },
      "execution_count": null,
      "outputs": [
        {
          "output_type": "stream",
          "name": "stdout",
          "text": [
            "first character is H\n",
            "length of the string is 5\n"
          ]
        }
      ]
    },
    {
      "cell_type": "markdown",
      "source": [
        "The index in a sting starts from 0 to (length -1) in Python."
      ],
      "metadata": {
        "id": "-7qz9BB9uitS"
      }
    },
    {
      "cell_type": "code",
      "source": [
        "# print individual character\n",
        "print(str_[0],str_[1],str_[2],str_[3],str_[4])\n",
        "\n",
        "# last element is always -1\n",
        "print(str_[-5],str_[-4],str_[-3],str_[-2],str_[-1])\n",
        "\n",
        "#string_variable[0]='A' # cannot modify individual element in collection. create a new string"
      ],
      "metadata": {
        "colab": {
          "base_uri": "https://localhost:8080/"
        },
        "id": "Kla_1Prmtvqr",
        "outputId": "24e18ccf-a274-4a7b-9452-9f50ce210e96"
      },
      "execution_count": null,
      "outputs": [
        {
          "output_type": "stream",
          "name": "stdout",
          "text": [
            "H e l l o\n",
            "H e l l o\n"
          ]
        }
      ]
    },
    {
      "cell_type": "markdown",
      "source": [
        "In order to slice a string, we use the following syntax:\n",
        "A string in python can be sliced for getting a part of the strings."
      ],
      "metadata": {
        "id": "GTOPNK1TE3Zg"
      }
    },
    {
      "cell_type": "code",
      "source": [
        "# starts from index 0 all the way till 3 (Excluding 3)\n",
        "# H e l l\n",
        "# H e l\n",
        "print(str_[0:3])"
      ],
      "metadata": {
        "colab": {
          "base_uri": "https://localhost:8080/"
        },
        "id": "LZUJuaF8u-UD",
        "outputId": "8f008033-bd5d-43e4-c346-5fe31b355078"
      },
      "execution_count": null,
      "outputs": [
        {
          "output_type": "stream",
          "name": "stdout",
          "text": [
            "Hello\n"
          ]
        }
      ]
    },
    {
      "cell_type": "markdown",
      "source": [
        "\n",
        "- Negative Indices: Negative indices can also be used as shown in the figure above. -1\n",
        "corresponds to the (length - 1) index, -2 to (length - 2)."
      ],
      "metadata": {
        "id": "14GmAaPduRZz"
      }
    },
    {
      "cell_type": "markdown",
      "source": [
        "Lists\n",
        "- Python lists are containers to store a set of values of any data type.\n",
        "- A list can be indexed just like a string.\n",
        "- List methods\n"
      ],
      "metadata": {
        "id": "uiYq9zZTwArs"
      }
    },
    {
      "cell_type": "code",
      "source": [
        "# declare a list\n",
        "l_1=[1,2,3,'Hello']\n",
        "\n",
        "print(l_1[0], l_1[1], l_1[2], l_1[3])\n",
        "\n",
        "print(l_1.pop(3))\n",
        "\n",
        "# now we have all same type elements\n",
        "l_1.sort() # sort the list\n",
        "print(l_1)\n",
        "\n",
        "l_1.reverse() # reverse the list\n",
        "print(l_1)\n",
        "\n",
        "l_1.append(8) #  adds 8 at the end of the list\n",
        "print(l_1)\n",
        "\n",
        "l_1.insert(3,100) # This will add 100 at 3 index\n",
        "print(l_1)\n",
        "\n",
        "print(l_1.pop(2)) # Will delete element at index 2 and return its value\n",
        "print(l_1)\n",
        "\n",
        "l_1.append('hello')\n",
        "print(l_1)\n",
        "l_1.remove('hello')\n",
        "print(l_1)"
      ],
      "metadata": {
        "colab": {
          "base_uri": "https://localhost:8080/"
        },
        "collapsed": true,
        "id": "63tIjiZIwARI",
        "outputId": "262e6f4b-504c-45a3-feec-88aeb3bfd71a"
      },
      "execution_count": null,
      "outputs": [
        {
          "output_type": "stream",
          "name": "stdout",
          "text": [
            "1 2 3 Hello\n",
            "Hello\n",
            "[1, 2, 3]\n",
            "[3, 2, 1]\n",
            "[3, 2, 1, 8]\n",
            "[3, 2, 1, 100, 8]\n",
            "1\n",
            "[3, 2, 100, 8]\n",
            "[3, 2, 100, 8, 'hello']\n",
            "[3, 2, 100, 8]\n"
          ]
        }
      ]
    },
    {
      "cell_type": "markdown",
      "source": [
        "Dictionary is a collection of keys-value pairs.\n",
        "1. It is unordered.\n",
        "2. It is mutable.\n",
        "3. It is key indexed.\n",
        "4. Cannot contain duplicate keys.\n"
      ],
      "metadata": {
        "id": "MAYgBFVhytqW"
      }
    },
    {
      "cell_type": "code",
      "source": [
        "dictionary_variable={'name':'NIBAF', 'date':'20240920', 'age':25} #dictionary\n",
        "\n",
        "print(dictionary_variable)\n",
        "\n",
        "print(dictionary_variable['name'])\n",
        "\n",
        "dictionary_variable['name']='NIBAF2.0'\n",
        "\n",
        "print(dictionary_variable['name'])"
      ],
      "metadata": {
        "colab": {
          "base_uri": "https://localhost:8080/"
        },
        "id": "odlS-Mgay1FS",
        "outputId": "7db0641b-b752-4784-f6a8-f5e8ff803f11"
      },
      "execution_count": null,
      "outputs": [
        {
          "output_type": "stream",
          "name": "stdout",
          "text": [
            "{'name': 'NIBAF', 'date': '20240920', 'age': 25}\n",
            "NIBAF\n",
            "NIBAF2.0\n"
          ]
        }
      ]
    },
    {
      "cell_type": "code",
      "source": [
        "print(dictionary_variable.items())\n",
        "\n",
        "dictionary_variable.keys()"
      ],
      "metadata": {
        "colab": {
          "base_uri": "https://localhost:8080/"
        },
        "id": "wTqa8IAWzFql",
        "outputId": "bd08cffa-f960-447e-c638-b524b3920e6e"
      },
      "execution_count": null,
      "outputs": [
        {
          "output_type": "stream",
          "name": "stdout",
          "text": [
            "dict_items([('name', 'NIBAF2.0'), ('date', '20240920'), ('age', 25)])\n"
          ]
        },
        {
          "output_type": "execute_result",
          "data": {
            "text/plain": [
              "dict_keys(['name', 'date', 'age'])"
            ]
          },
          "metadata": {},
          "execution_count": 113
        }
      ]
    },
    {
      "cell_type": "markdown",
      "source": [
        "Conditional Expressions:\n",
        "- Make decisions based on conditions\n",
        "- If, else and elif statements are a multiway decision taken by our program due to certain conditions in our code\n",
        "- If rainy weather then take umbrella\n",
        "- If sunny weather then take sunglasses\n",
        "- Else don't take umbrella or sunglasses\n"
      ],
      "metadata": {
        "id": "BCZhwGFi3h-r"
      }
    },
    {
      "cell_type": "code",
      "source": [
        "weather='Sunny'\n",
        "\n",
        "if weather ==  'rainy':\n",
        "  print('take umbrella')\n",
        "elif weather == 'Sunny':\n",
        "  print('take sunglasses')\n",
        "else:\n",
        "  print(\"don't take sunglasses or umbrella\")"
      ],
      "metadata": {
        "colab": {
          "base_uri": "https://localhost:8080/"
        },
        "id": "bRDia6_p37hJ",
        "outputId": "3d3cc75f-396b-485e-8667-d19ce94a0837"
      },
      "execution_count": null,
      "outputs": [
        {
          "output_type": "stream",
          "name": "stdout",
          "text": [
            "take sunglasses\n"
          ]
        }
      ]
    },
    {
      "cell_type": "markdown",
      "source": [
        "Relational Operators are used to evaluate conditions inside the if statements. Some examples of relational operators are:\n",
        "- ==: equals.\n",
        "- '>=': greater than/ equal to.\n",
        "- < =: lesser than/ equal to."
      ],
      "metadata": {
        "id": "k2rsra7v4u9K"
      }
    },
    {
      "cell_type": "code",
      "source": [
        "a=12\n",
        "\n",
        "if a>=18:\n",
        "  print('you can get a driving license')\n",
        "elif a<0:\n",
        "  print('you cannot enter a negative number')\n",
        "else:\n",
        "  print('you cannot get a driving license')\n"
      ],
      "metadata": {
        "colab": {
          "base_uri": "https://localhost:8080/"
        },
        "id": "iqVWF2Dg5Fnr",
        "outputId": "93554340-9d73-42be-c8c7-d3bc8ebdc25e"
      },
      "execution_count": null,
      "outputs": [
        {
          "output_type": "stream",
          "name": "stdout",
          "text": [
            "you cannot get a driving license\n"
          ]
        }
      ]
    },
    {
      "cell_type": "markdown",
      "source": [
        "In python logical operators operate on conditional statements.\n",
        "- and – true if both operands are true else false.\n",
        "- or – true if at least one operand is true or else false.\n",
        "- not – inverts true to false & false to true."
      ],
      "metadata": {
        "id": "mq0tCvKU44OJ"
      }
    },
    {
      "cell_type": "code",
      "source": [
        "a=67\n",
        "if a>=18 and a<100:\n",
        "  print('you can get a driving license')\n",
        "elif a<0:\n",
        "  print('you cannot enter a negative number')\n",
        "else:\n",
        "  print('you cannot get a driving license')"
      ],
      "metadata": {
        "colab": {
          "base_uri": "https://localhost:8080/"
        },
        "id": "8-6XvXOk5jW9",
        "outputId": "9988aba8-d8c5-4cb4-99f6-902b50ee045f"
      },
      "execution_count": null,
      "outputs": [
        {
          "output_type": "stream",
          "name": "stdout",
          "text": [
            "you can get a driving license\n"
          ]
        }
      ]
    },
    {
      "cell_type": "markdown",
      "source": [
        "1. There can be any number of elif statements.\n",
        "2. Last else is executed only if all the conditions inside elifs fail."
      ],
      "metadata": {
        "id": "_SQ41oR34-2Y"
      }
    },
    {
      "cell_type": "code",
      "source": [
        "#Fun Task\n",
        "#Create a calculator that takes two numbers and operator then performs the operation and prints result\n",
        "#e.g input 2 numbers (1,5) then operation (+) ; expected outcome (6)"
      ],
      "metadata": {
        "id": "que017wgQBwE"
      },
      "execution_count": null,
      "outputs": []
    },
    {
      "cell_type": "code",
      "source": [
        "#steps list down\n",
        "\n",
        "#input function here\n",
        "\n",
        "\n",
        "#logic here\n",
        "\n",
        "\n",
        "\n",
        "\n"
      ],
      "metadata": {
        "id": "Hwq-CGIU-J1Z"
      },
      "execution_count": null,
      "outputs": []
    },
    {
      "cell_type": "markdown",
      "source": [
        "Additional Examples Below"
      ],
      "metadata": {
        "id": "cT1JD5yE9YDt"
      }
    },
    {
      "cell_type": "code",
      "source": [
        "#Type of variables in python #Variables are dynamically typed\n",
        "\n",
        "int_variable= 5 # integers are positive negative whole numbers\n",
        "print(int_variable)\n",
        "\n",
        "#double check if its really integer?\n",
        "\n",
        "print(type(int_variable))\n",
        "\n",
        "int_second_var= int('6') # you can convert any string into integer\n",
        "print(int_variable, int_second_var)\n",
        "print(type(int_variable), type(int_second_var)) # you can use type function to confirm you have integers"
      ],
      "metadata": {
        "id": "IVhI3AsETNRH",
        "colab": {
          "base_uri": "https://localhost:8080/"
        },
        "outputId": "1ea4518f-cd92-4dd9-c40b-4b618937382e"
      },
      "execution_count": null,
      "outputs": [
        {
          "output_type": "stream",
          "name": "stdout",
          "text": [
            "5\n",
            "<class 'int'>\n",
            "5 6\n",
            "<class 'int'> <class 'int'>\n"
          ]
        }
      ]
    },
    {
      "cell_type": "code",
      "source": [
        "float_variable=5.5 #float are decimal values\n",
        "float_var_2=float(4) # Convert an string or integer to a float\n",
        "print(type(float_variable), type(float_var_2)) # Check the type of float variable"
      ],
      "metadata": {
        "colab": {
          "base_uri": "https://localhost:8080/"
        },
        "id": "1Pfh3zahehlY",
        "outputId": "c5bdfffe-931d-4b25-d6f9-4f8dffcb37d2"
      },
      "execution_count": null,
      "outputs": [
        {
          "output_type": "stream",
          "name": "stdout",
          "text": [
            "<class 'float'> <class 'float'>\n"
          ]
        }
      ]
    },
    {
      "cell_type": "code",
      "source": [
        "string_variable='Hello I am string' #string are collection of one or more characters\n",
        "print(len(string_variable)) # you can find length of a collection\n",
        "#includes empty spaces as characters too\n",
        "\n",
        "print(string_variable[0]) #you can access an individual element in this collection of characters (index starts at 0)\n",
        "\n",
        "#the first element in collection always starts from 0 and ends at len(string_variable)-1\n",
        "#the last element in collection always starts from -1\n",
        "\n",
        "print(string_variable[0:3]) # you can specify the range of elements you want to access\n"
      ],
      "metadata": {
        "colab": {
          "base_uri": "https://localhost:8080/"
        },
        "id": "JL_zTmJBeuhS",
        "outputId": "b0637f96-7cad-4972-a670-1bee91132239"
      },
      "execution_count": null,
      "outputs": [
        {
          "output_type": "stream",
          "name": "stdout",
          "text": [
            "17\n",
            "H\n",
            "Hel\n"
          ]
        }
      ]
    },
    {
      "cell_type": "markdown",
      "source": [
        "Arithmetic operations"
      ],
      "metadata": {
        "id": "RSUxRM9GY6Cx"
      }
    },
    {
      "cell_type": "markdown",
      "source": [
        "Conditional statements control the flow of your program based on whether conditions are True or False. Here are some key operators:\n",
        "\n",
        "Comparison Operators:\n",
        "== : equal to\n",
        "!= : not equal to\n",
        "'>' : greater than\n",
        "'<' : less than\n",
        "'>=' : greater than or equal to\n",
        "'<=' : less than or equal to"
      ],
      "metadata": {
        "id": "s7ywpan_ZO40"
      }
    },
    {
      "cell_type": "markdown",
      "source": [],
      "metadata": {
        "id": "Z7OiUKRPZZOj"
      }
    },
    {
      "cell_type": "code",
      "source": [
        "#Increment variable\n",
        "a,b=5,10.0\n",
        "a+=1 # a = a + 1\n",
        "b+=1.5 # b = b + 1.5\n",
        "print(f'New value is {a}', f'New value is {b}') #increment by 1. We can format our statements by adding variables too.\n",
        "a=a+1\n",
        "b+=1.5\n",
        "print(f'New value is {a}', f'New value is {b}') #increment by 1\n",
        "\n",
        "#Decrement variable\n",
        "a-=1 # a = a - 1\n",
        "b-=1.5\n",
        "print(f'New value is {a}', f'New value is {b}')\n",
        "a=a-1\n",
        "b=b-1.5\n",
        "print(f'New value is {a}', f'New value is {b}')\n",
        "\n",
        "print(f'New value is {a}, {b}')"
      ],
      "metadata": {
        "colab": {
          "base_uri": "https://localhost:8080/"
        },
        "id": "M0d6_PotxxCY",
        "outputId": "3b73f795-d98b-4991-fe31-c1a5f8672bf0"
      },
      "execution_count": null,
      "outputs": [
        {
          "output_type": "stream",
          "name": "stdout",
          "text": [
            "New value is 6 New value is 11.5\n",
            "New value is 7 New value is 13.0\n",
            "New value is 6 New value is 11.5\n",
            "New value is 5 New value is 10.0\n",
            "New value is 5, 10.0\n"
          ]
        }
      ]
    },
    {
      "cell_type": "code",
      "source": [
        "#Maths in python\n",
        "\n",
        "#addition\n",
        "a,b,c=2,5,7.0\n",
        "d = a + b #d will automatically be integer\n",
        "e = a + c #e will be automatically a float\n",
        "print(f'd value is {d}, and {type(d)}', f'e value is {e}, and {type(e)}')\n",
        "\n",
        "#subtraction\n",
        "f= a - b\n",
        "g= a - e\n",
        "print(f'f value is {f}, and {type(f)}', f'g value is {g}, and {type(g)}')\n",
        "\n",
        "#Fun Task\n",
        "#The multiplication operator is * and the division operator is /\n",
        "\n",
        "#multiple these two variables and store them in a seprate variable\n",
        "a=5\n",
        "b = 10\n",
        "\n",
        "c = a*b\n",
        "print(f'value of c is {c}')\n",
        "\n",
        "#Divide these two variable and store them in a separate variable\n",
        "s=100\n",
        "t=10\n",
        "\n",
        "v= s/t\n",
        "print(f'value of v is {v}')\n",
        "#print resultant variables # 3 minute"
      ],
      "metadata": {
        "colab": {
          "base_uri": "https://localhost:8080/"
        },
        "id": "5w8MCUF-45Hj",
        "outputId": "e67ee50e-817d-41b3-bafb-cf85cffd18a7"
      },
      "execution_count": null,
      "outputs": [
        {
          "output_type": "stream",
          "name": "stdout",
          "text": [
            "d value is 7, and <class 'int'> e value is 9.0, and <class 'float'>\n",
            "f value is -3, and <class 'int'> g value is -7.0, and <class 'float'>\n",
            "value of c is 50\n",
            "value of v is 10.0\n"
          ]
        }
      ]
    },
    {
      "cell_type": "code",
      "source": [
        "#conditional statements\n",
        "a=0\n",
        "if type(a) == int :\n",
        "  print('A is an integer')\n",
        "elif type(a) == float :\n",
        "  print('A is a float')\n",
        "else:\n",
        "  print('A is not an integer/float')\n",
        "\n",
        "\n",
        "# equals to : ==\n",
        "# or : or\n",
        "# and : and\n",
        "# less than : <\n",
        "# greater than : >\n",
        "# less than equal to : <=\n",
        "# greater than equal to : >=\n",
        "\n",
        "if a > 1 or a > 0 or a > 100:\n",
        "  print(a)\n",
        "else:\n",
        "  print('a is less than 1')\n",
        "\n",
        "if (a >3\n",
        "    and a <10) :\n",
        "   print('A is greater than 3 and less than 10')\n",
        "else:\n",
        "  print('A is not between 4 and 9')\n"
      ],
      "metadata": {
        "colab": {
          "base_uri": "https://localhost:8080/"
        },
        "id": "tprGuZQvOMq-",
        "outputId": "718db3f2-69b6-4f13-cbba-02e5de99337f"
      },
      "execution_count": null,
      "outputs": [
        {
          "output_type": "stream",
          "name": "stdout",
          "text": [
            "A is an integer\n",
            "a is less than 1\n",
            "A is not between 4 and 9\n"
          ]
        }
      ]
    },
    {
      "cell_type": "code",
      "source": [
        "tuple_variable=(1,2,3,4,2,5.5,'i am string') #tuple is fixed collection, cannot add or remove elements\n",
        "print(tuple_variable)\n",
        "print(tuple_variable[0]) #print multiple variables, number, anything at once\n",
        "print(tuple_variable[0:4]) #prints the first 4 elements\n",
        "print(tuple_variable[-1]) #prints the last element\n",
        "\n",
        "#tuple cant be modified\n",
        "#tuple_variable[0]='A'"
      ],
      "metadata": {
        "colab": {
          "base_uri": "https://localhost:8080/"
        },
        "id": "DOyd-WkuexFS",
        "outputId": "1ab90dec-9082-4570-de46-e8000ec3ef0e",
        "collapsed": true
      },
      "execution_count": null,
      "outputs": [
        {
          "output_type": "stream",
          "name": "stdout",
          "text": [
            "(1, 2, 3, 4, 2, 5.5, 'i am string')\n",
            "1\n",
            "(1, 2, 3, 4)\n",
            "i am string\n"
          ]
        }
      ]
    },
    {
      "cell_type": "code",
      "source": [
        "dictionary_variable={'name':'NIBAF', 'date':'20240920', 'age':25} #dictionary\n",
        "print(dictionary_variable)\n",
        "print(dictionary_variable['name'])\n",
        "dictionary_variable['name']='NIBAF2.0'\n",
        "print(dictionary_variable['name'])"
      ],
      "metadata": {
        "colab": {
          "base_uri": "https://localhost:8080/"
        },
        "id": "vK5Y1UVRE78g",
        "outputId": "1877c237-db29-460b-e5f7-2317121d94b4"
      },
      "execution_count": null,
      "outputs": [
        {
          "output_type": "stream",
          "name": "stdout",
          "text": [
            "{'name': 'NIBAF', 'date': '20240920', 'age': 25}\n",
            "NIBAF\n",
            "NIBAF2.0\n"
          ]
        }
      ]
    },
    {
      "cell_type": "code",
      "source": [
        "list_variable=['string',2,3.2] #list is not a fixed collection, can add or remove elements\n",
        "print(list_variable)\n",
        "list_variable.append(200) # add 200 to list at end\n",
        "print(list_variable) # print the last element in list\n",
        "list_variable.pop() # remove the last element in list\n",
        "print(list_variable)"
      ],
      "metadata": {
        "colab": {
          "base_uri": "https://localhost:8080/"
        },
        "id": "LRd-oVOYE9KP",
        "outputId": "41e15fa1-de05-4d17-935f-b9d0f777f489"
      },
      "execution_count": null,
      "outputs": [
        {
          "output_type": "stream",
          "name": "stdout",
          "text": [
            "['string', 2, 3.2]\n",
            "['string', 2, 3.2, 200]\n",
            "['string', 2, 3.2]\n"
          ]
        }
      ]
    },
    {
      "cell_type": "code",
      "source": [
        "thistuple = (\"apple\",) #To create a tuple with only one item, you have to add\n",
        "                       #a comma after the item, otherwise Python will not recognize it as a tuple.\n",
        "print(type(thistuple))\n",
        "\n",
        "#NOT a tuple\n",
        "thistuple = (\"apple\")\n",
        "print(type(thistuple))"
      ],
      "metadata": {
        "colab": {
          "base_uri": "https://localhost:8080/"
        },
        "id": "z-_JJHeigD4w",
        "outputId": "83be1a55-99a3-45af-f035-094ce5613edb"
      },
      "execution_count": null,
      "outputs": [
        {
          "output_type": "stream",
          "name": "stdout",
          "text": [
            "<class 'tuple'>\n",
            "<class 'str'>\n"
          ]
        }
      ]
    },
    {
      "cell_type": "code",
      "source": [
        "int(input(\"Enter your age\"))"
      ],
      "metadata": {
        "colab": {
          "base_uri": "https://localhost:8080/"
        },
        "id": "S4JpPChFlxXU",
        "outputId": "da84d9a1-766c-4d9f-8c05-5756d065a266"
      },
      "execution_count": null,
      "outputs": [
        {
          "name": "stdout",
          "output_type": "stream",
          "text": [
            "Enter your age34\n"
          ]
        },
        {
          "output_type": "execute_result",
          "data": {
            "text/plain": [
              "34"
            ]
          },
          "metadata": {},
          "execution_count": 86
        }
      ]
    },
    {
      "cell_type": "code",
      "source": [
        "num= int(input(\"Enter your first number\"))\n",
        "num_2 = int(input(\"Enter your second number\"))\n",
        "operator = input(\"Input operator\")"
      ],
      "metadata": {
        "colab": {
          "base_uri": "https://localhost:8080/"
        },
        "id": "wM7tFVVHQB0Y",
        "outputId": "a0790c00-0565-4d41-f6f5-31bab2210025"
      },
      "execution_count": null,
      "outputs": [
        {
          "name": "stdout",
          "output_type": "stream",
          "text": [
            "Enter your first number40\n",
            "Enter your second number100\n",
            "Input operator+\n"
          ]
        }
      ]
    },
    {
      "cell_type": "code",
      "source": [
        "if operator == '+':\n",
        "  print(num+num_2)"
      ],
      "metadata": {
        "colab": {
          "base_uri": "https://localhost:8080/"
        },
        "id": "nGfL37G2-RJK",
        "outputId": "9e7fcae7-c925-43d1-ec59-4bb89932e45e"
      },
      "execution_count": null,
      "outputs": [
        {
          "output_type": "stream",
          "name": "stdout",
          "text": [
            "140\n"
          ]
        }
      ]
    }
  ]
}