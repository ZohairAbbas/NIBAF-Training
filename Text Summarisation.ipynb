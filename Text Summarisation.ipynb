{
 "cells": [
  {
   "cell_type": "markdown",
   "id": "31323650",
   "metadata": {},
   "source": [
    "### Installing Transformers and Importing Dependencies"
   ]
  },
  {
   "cell_type": "code",
   "execution_count": null,
   "id": "e06b8816",
   "metadata": {},
   "outputs": [],
   "source": [
    "!pip install transformers"
   ]
  },
  {
   "cell_type": "code",
   "execution_count": 8,
   "id": "b6b22714",
   "metadata": {},
   "outputs": [],
   "source": [
    "from transformers import pipeline"
   ]
  },
  {
   "cell_type": "markdown",
   "id": "2e13f97e",
   "metadata": {},
   "source": [
    "### Load Summarization Pipeline"
   ]
  },
  {
   "cell_type": "code",
   "execution_count": 9,
   "id": "cd9684b1",
   "metadata": {},
   "outputs": [
    {
     "name": "stderr",
     "output_type": "stream",
     "text": [
      "No model was supplied, defaulted to sshleifer/distilbart-cnn-12-6 and revision a4f8f3e (https://huggingface.co/sshleifer/distilbart-cnn-12-6).\n",
      "Using a pipeline without specifying a model name and revision in production is not recommended.\n"
     ]
    }
   ],
   "source": [
    "summarizer = pipeline(\"summarization\")"
   ]
  },
  {
   "cell_type": "markdown",
   "id": "52d51afd",
   "metadata": {},
   "source": [
    "### Summarize Text"
   ]
  },
  {
   "cell_type": "code",
   "execution_count": 10,
   "id": "c2523c8a",
   "metadata": {},
   "outputs": [],
   "source": [
    "article = '''\n",
    "During the outgoing FY2023, Pakistan faced unprecedented challenges due to political uncertainty compounded by\n",
    "devastating floods. In addition to this, Pakistan’s economic outlook further deteriorated due to high inflation driven by\n",
    "international commodities prices, currency devaluation, and fiscal imbalances.\n",
    "Pakistan Stock Exchange, as the country’s national bourse, widely used by investors as the yardstick for measuring the\n",
    "strength of the economy, saw the KSE-100 Index closing at 41,453 on June 27, 2023 (vs 41,541 on June 30, 2022)\n",
    "decreasing by 0.21%.\n",
    "By the end of the financial year, the market capitalization of 524 companies listed on the local bourse was PKR 6.37\n",
    "trillion.\n",
    "During FY 2022-23, PSX approved 4 listing applications and prospectuses of equity securities namely; Globe Residency\n",
    "REIT, Dalda Foods Limited, Symmetry Group Limited and Searle Pakistan Limited. Moreover, 3 listings took place by way\n",
    "of merger which include Ghani Chemicals Industries Limited, LSE Proptech Limited and LSE Ventures Limited. Further,\n",
    "Class-B Ordinary Shares of Ghani Chemical Industries Limited were also listed on the Exchange by way of Right Issue\n",
    "o\u001fered to existing shareholders of the Company. Out of the aforementioned 7 listing applications, 4 companies were\n",
    "listed on the Main Board during FY 2022-23 having a total paid up capital of PKR 8,664 million.\n",
    "In addition to the above, 10 Privately Placed Debt Securities having a combined issue size of PKR 54,173 million, 12 Open\n",
    "End Mutual Funds constituted a total fund size of PKR 23,982 million and 1 Exchange Traded Fund were also listed\n",
    "during the year.\n",
    "PSX also added a new debt-based Exchange Traded Fund (ETF) namely HBL Total Treasury ETF. Furthermore, PSX has\n",
    "also launched a fundamental index (PSX Dividend 20 Index) tracking the performance of the top 20 dividend-paying\n",
    "companies listed on PSX.\n",
    "In the outgoing fiscal year, PSX, being a symbol of Pakistan’s economy and being at the forefront of financial innovation\n",
    "in the country, has successfully introduced world-class trading infrastructure from technological perspective as well as\n",
    "innovative investment products for investors.\n",
    "June 30, 2023 June 30, 2022\n",
    "No. of Listed Companies 524 530\n",
    "Listed Capital (PKR Mn.) 1,627,167 1,525,899\n",
    "Trading Volume – Ready Mkt + DFC (Mn) 67,199 101,657\n",
    "Trading Value – Ready Mkt + DFC (PKR Mn) 2,344,555 3,567,317\n",
    "Market Capitalization (PKR Mn) 6,369,473 6,956,507\n",
    "KSE 100 Index 41,452.69 41,540.83\n",
    "KSE 30 Index 14,636.72 15,805.04 \n",
    "'''"
   ]
  },
  {
   "cell_type": "code",
   "execution_count": 11,
   "id": "9782a067",
   "metadata": {},
   "outputs": [
    {
     "data": {
      "text/plain": [
       "[{'summary_text': ' Pakistan Stock Exchange saw the KSE-100 Index closing at 41,453 on June 27, 2023 (vs 41,541 on June 30, 2022) Decreasing by 0.21% by the end of the financial year, the market capitalization of 524 companies listed on the local bourse was PKR 6.37% .'}]"
      ]
     },
     "execution_count": 11,
     "metadata": {},
     "output_type": "execute_result"
    }
   ],
   "source": [
    "summarizer(article, max_length=600, min_length=30)"
   ]
  },
  {
   "cell_type": "code",
   "execution_count": null,
   "id": "7cf64482",
   "metadata": {},
   "outputs": [],
   "source": [
    "# https://www.katnoria.com/nlg-decoders/"
   ]
  },
  {
   "cell_type": "code",
   "execution_count": 12,
   "id": "6117c9bf",
   "metadata": {},
   "outputs": [],
   "source": [
    "# Use a pipeline as a high-level helper\n",
    "from transformers import pipeline\n",
    "\n",
    "pipe = pipeline(\"text-classification\", model=\"mrm8488/distilroberta-finetuned-financial-news-sentiment-analysis\")"
   ]
  },
  {
   "cell_type": "code",
   "execution_count": 13,
   "id": "1a432f87",
   "metadata": {},
   "outputs": [
    {
     "data": {
      "text/plain": [
       "[{'label': 'negative', 'score': 0.9981136322021484}]"
      ]
     },
     "execution_count": 13,
     "metadata": {},
     "output_type": "execute_result"
    }
   ],
   "source": [
    "pipe('Pakistan Stock Exchange saw the KSE-100 Index closing at 41,453 on June 27, 2023 (vs 41,541 on June 30, 2022) Decreasing by 0.21% by the end of the financial year, the market capitalization of 524 companies listed on the local bourse was PKR 6.37% .')"
   ]
  },
  {
   "cell_type": "markdown",
   "id": "a592410e",
   "metadata": {},
   "source": [
    "### Sample Project using HuggingFace"
   ]
  },
  {
   "cell_type": "code",
   "execution_count": 5,
   "id": "97cd0aed",
   "metadata": {},
   "outputs": [
    {
     "name": "stdout",
     "output_type": "stream",
     "text": [
      "WELCOME TO MY NLP PROJECT\n",
      "Please select the option number OR q to exit\n",
      "1-Text Classification\n",
      "2-Text Summarization\n",
      "3-Translation\n",
      "1\n",
      "\n",
      "Enter text for text classification: Pakistan Stock Exchange saw the KSE-100 Index closing at 41,453 on June 27, 2023 (vs 41,541 on June 30, 2022) Decreasing by 0.21% by the end of the financial year, the market capitalization of 524 companies listed on the local bourse was PKR 6.37% .\n",
      "\n",
      " [{'label': 'negative', 'score': 0.9981136322021484}]\n",
      "Please select the option number OR q to exit\n",
      "1-Text Classification\n",
      "2-Text Summarization\n",
      "3-Translation\n",
      "2\n"
     ]
    },
    {
     "name": "stderr",
     "output_type": "stream",
     "text": [
      "No model was supplied, defaulted to sshleifer/distilbart-cnn-12-6 and revision a4f8f3e (https://huggingface.co/sshleifer/distilbart-cnn-12-6).\n",
      "Using a pipeline without specifying a model name and revision in production is not recommended.\n"
     ]
    },
    {
     "name": "stdout",
     "output_type": "stream",
     "text": [
      "\n",
      "Enter text for summary: During the outgoing FY2023, Pakistan faced unprecedented challenges due to political uncertainty compounded by devastating floods. In addition to this, Pakistan’s economic outlook further deteriorated due to high inflation driven by international commodities prices, currency devaluation, and fiscal imbalances. Pakistan Stock Exchange, as the country’s national bourse, widely used by investors as the yardstick for measuring the strength of the economy, saw the KSE-100 Index closing at 41,453 on June 27, 2023 (vs 41,541 on June 30, 2022) decreasing by 0.21%. By the end of the financial year, the market capitalization of 524 companies listed on the local bourse was PKR 6.37 trillion. During FY 2022-23, PSX approved 4 listing applications and prospectuses of equity securities namely; Globe Residency REIT, Dalda Foods Limited, Symmetry Group Limited and Searle Pakistan Limited. Moreover, 3 listings took place by way of merger which include Ghani Chemicals Industries Limited, LSE Proptech Limited and LSE Ventures Limited. Further, Class-B Ordinary Shares of Ghani Chemical Industries Limited were also listed on the Exchange by way of Right Issue o\u001fered to existing shareholders of the Company. Out of the aforementioned 7 listing applications, 4 companies were listed on the Main Board during FY 2022-23 having a total paid up capital of PKR 8,664 million. In addition to the above, 10 Privately Placed Debt Securities having a combined issue size of PKR 54,173 million, 12 Open End Mutual Funds constituted a total fund size of PKR 23,982 million and 1 Exchange Traded Fund were also listed during the year. PSX also added a new debt-based Exchange Traded Fund (ETF) namely HBL Total Treasury ETF. Furthermore, PSX has also launched a fundamental index (PSX Dividend 20 Index) tracking the performance of the top 20 dividend-paying companies listed on PSX. In the outgoing fiscal year, PSX, being a symbol of Pakistan’s economy and being at the forefront of financial innovation in the country, has successfully introduced world-class trading infrastructure from technological perspective as well as innovative investment products for investors. June 30, 2023 June 30, 2022 No. of Listed Companies 524 530 Listed Capital (PKR Mn.) 1,627,167 1,525,899 Trading Volume – Ready Mkt + DFC (Mn) 67,199 101,657 Trading Value – Ready Mkt + DFC (PKR Mn) 2,344,555 3,567,317 Market Capitalization (PKR Mn) 6,369,473 6,956,507 KSE 100 Index 41,452.69 41,540.83 KSE 30 Index 14,636.72 15,805.04 \n",
      "\n",
      " [{'summary_text': ' Pakistan Stock Exchange, as the country’s national bourse, widely used by investors as the yardstick for measuring the strength of the economy, saw the KSE-100 Index closing at 41,453 on June 27, 2023 (vs 41,541 on June 30, 2022) decreasing by 0.21% By the end of the financial year, the market capitalization of 524 companies listed on the local bourse was PKR 6.37 trillion .'}]\n",
      "Please select the option number OR q to exit\n",
      "1-Text Classification\n",
      "2-Text Summarization\n",
      "3-Translation\n",
      "3\n",
      "\n",
      "Enter text for translation: Hello there, whats your name?\n",
      "\n",
      " [{'translation_text': 'Bonjour là, quel est votre nom ?'}]\n",
      "Please select the option number OR q to exit\n",
      "1-Text Classification\n",
      "2-Text Summarization\n",
      "3-Translation\n",
      "q\n"
     ]
    }
   ],
   "source": [
    "from transformers import pipeline\n",
    "\n",
    "print(\"WELCOME TO MY NLP PROJECT\")\n",
    "while True:\n",
    "    inp = input(\"Please select the option number OR q to exit\\n1-Text Classification\\n2-Text Summarization\\n3-Translation\\n\")\n",
    "    if inp == 'q':\n",
    "        break\n",
    "    if inp == '1':\n",
    "        user_inp = input(\"\\nEnter text for text classification: \")\n",
    "        pipe = pipeline(\"text-classification\", model=\"mrm8488/distilroberta-finetuned-financial-news-sentiment-analysis\")\n",
    "        print(\"\\n\",pipe(user_inp))\n",
    "    elif inp == '2':\n",
    "        summarizer = pipeline(\"summarization\")\n",
    "        user_inp = input(\"\\nEnter text for summary: \")\n",
    "        print(\"\\n\",summarizer(user_inp))\n",
    "    elif inp == '3':\n",
    "        pipe_translation = pipeline(\"translation_en_to_fr\", model=\"google-t5/t5-small\")\n",
    "        user_inp = input(\"\\nEnter text for translation: \")\n",
    "        print(\"\\n\",pipe_translation(user_inp))\n",
    "        "
   ]
  },
  {
   "cell_type": "code",
   "execution_count": null,
   "id": "c2ef685f",
   "metadata": {},
   "outputs": [],
   "source": []
  }
 ],
 "metadata": {
  "kernelspec": {
   "display_name": "Python 3 (ipykernel)",
   "language": "python",
   "name": "python3"
  },
  "language_info": {
   "codemirror_mode": {
    "name": "ipython",
    "version": 3
   },
   "file_extension": ".py",
   "mimetype": "text/x-python",
   "name": "python",
   "nbconvert_exporter": "python",
   "pygments_lexer": "ipython3",
   "version": "3.11.4"
  }
 },
 "nbformat": 4,
 "nbformat_minor": 5
}
